{
 "cells": [
  {
   "cell_type": "markdown",
   "id": "38dd62f2",
   "metadata": {},
   "source": [
    "# 01 Exploratory Data Analysis"
   ]
  },
  {
   "cell_type": "markdown",
   "id": "86f277cb",
   "metadata": {},
   "source": [
    "As we read in oritinal docs data ('docs\\Data-Codes' and 'docs\\Domain-Descriptoon'), we know about the features right now:\n",
    "\n",
    "**File Names and format:**\n",
    "1. Date in MM-DD-YYYY format\n",
    "2. Time in XX:YY format\n",
    "3. Code\n",
    "4. Value\n",
    "\n",
    "**The Code field is deciphered as follows:**\n",
    "\n",
    "- 33 = Regular insulin dose\n",
    "- 34 = NPH insulin dose\n",
    "- 35 = UltraLente insulin dose\n",
    "- 48 = Unspecified blood glucose measurement\n",
    "- 57 = Unspecified blood glucose measurement\n",
    "- 58 = Pre-breakfast blood glucose measurement\n",
    "- 59 = Post-breakfast blood glucose measurement\n",
    "- 60 = Pre-lunch blood glucose measurement\n",
    "- 61 = Post-lunch blood glucose measurement\n",
    "- 62 = Pre-supper blood glucose measurement\n",
    "- 63 = Post-supper blood glucose measurement\n",
    "- 64 = Pre-snack blood glucose measurement\n",
    "- 65 = Hypoglycemic symptoms\n",
    "- 66 = Typical meal ingestion\n",
    "- 67 = More-than-usual meal ingestion\n",
    "- 68 = Less-than-usual meal ingestion\n",
    "- 69 = Typical exercise activity\n",
    "- 70 = More-than-usual exercise activity\n",
    "- 71 = Less-than-usual exercise activity\n",
    "- 72 = Unspecified special event\n"
   ]
  },
  {
   "cell_type": "markdown",
   "id": "85191eeb",
   "metadata": {},
   "source": [
    "---\n",
    "In this notebook, we will able to load, inspect, clean, and perform a thorough exploratory data analysis on  Diabetes dataset. We will investigate the data's structure, identify potential issues, analyze variable distributions, and uncover relationships between features and the target variable"
   ]
  },
  {
   "cell_type": "markdown",
   "id": "622951fc",
   "metadata": {},
   "source": [
    "## Setup and Imports"
   ]
  },
  {
   "cell_type": "code",
   "execution_count": 161,
   "id": "1b1f0aed",
   "metadata": {},
   "outputs": [],
   "source": [
    "import pandas as pd\n",
    "import numpy as np\n",
    "import matplotlib.pyplot as plt\n",
    "import seaborn as sns\n",
    "import os\n",
    "\n",
    "# some options for better visualization\n",
    "sns.set_style('whitegrid')\n",
    "pd.set_option('display.max_columns', None)"
   ]
  },
  {
   "cell_type": "markdown",
   "id": "677a8c3b",
   "metadata": {},
   "source": [
    "## Data Loading and Assembly"
   ]
  },
  {
   "cell_type": "code",
   "execution_count": 162,
   "id": "145adb2d",
   "metadata": {},
   "outputs": [],
   "source": [
    "data_path = '../data/01-raw/diabetes/'\n",
    "\n",
    "# list of all data files in the directory\n",
    "all_files = []\n",
    "for file in os.listdir(data_path): # to garanteed but actually it is not necessary\n",
    "    if file.startswith('data-'):\n",
    "        all_files.append(os.path.join(data_path, file))\n",
    "all_files.sort()"
   ]
  },
  {
   "cell_type": "code",
   "execution_count": 163,
   "id": "7d5aef1b",
   "metadata": {},
   "outputs": [
    {
     "data": {
      "text/plain": [
       "['../data/01-raw/diabetes/data-01',\n",
       " '../data/01-raw/diabetes/data-02',\n",
       " '../data/01-raw/diabetes/data-03']"
      ]
     },
     "execution_count": 163,
     "metadata": {},
     "output_type": "execute_result"
    }
   ],
   "source": [
    "all_files[:3]"
   ]
  },
  {
   "cell_type": "code",
   "execution_count": 164,
   "id": "2310dea5",
   "metadata": {},
   "outputs": [],
   "source": [
    "df_list = []\n",
    "for file in all_files:\n",
    "    df = pd.read_csv(file, sep='\\t', header=None, engine='python')\n",
    "    df_list.append(df)\n",
    "\n",
    "df_raw = pd.concat(df_list, ignore_index=True)"
   ]
  },
  {
   "cell_type": "code",
   "execution_count": 165,
   "id": "14bf20a1",
   "metadata": {},
   "outputs": [
    {
     "data": {
      "application/vnd.microsoft.datawrangler.viewer.v0+json": {
       "columns": [
        {
         "name": "index",
         "rawType": "int64",
         "type": "integer"
        },
        {
         "name": "0",
         "rawType": "object",
         "type": "string"
        },
        {
         "name": "1",
         "rawType": "object",
         "type": "string"
        },
        {
         "name": "2",
         "rawType": "int64",
         "type": "integer"
        },
        {
         "name": "3",
         "rawType": "object",
         "type": "unknown"
        }
       ],
       "ref": "9628967c-c535-409f-a278-6b2a5660dabd",
       "rows": [
        [
         "0",
         "04-21-1991",
         "9:09",
         "58",
         "100"
        ],
        [
         "1",
         "04-21-1991",
         "9:09",
         "33",
         "9"
        ],
        [
         "2",
         "04-21-1991",
         "9:09",
         "34",
         "13"
        ],
        [
         "3",
         "04-21-1991",
         "17:08",
         "62",
         "119"
        ],
        [
         "4",
         "04-21-1991",
         "17:08",
         "33",
         "7"
        ]
       ],
       "shape": {
        "columns": 4,
        "rows": 5
       }
      },
      "text/html": [
       "<div>\n",
       "<style scoped>\n",
       "    .dataframe tbody tr th:only-of-type {\n",
       "        vertical-align: middle;\n",
       "    }\n",
       "\n",
       "    .dataframe tbody tr th {\n",
       "        vertical-align: top;\n",
       "    }\n",
       "\n",
       "    .dataframe thead th {\n",
       "        text-align: right;\n",
       "    }\n",
       "</style>\n",
       "<table border=\"1\" class=\"dataframe\">\n",
       "  <thead>\n",
       "    <tr style=\"text-align: right;\">\n",
       "      <th></th>\n",
       "      <th>0</th>\n",
       "      <th>1</th>\n",
       "      <th>2</th>\n",
       "      <th>3</th>\n",
       "    </tr>\n",
       "  </thead>\n",
       "  <tbody>\n",
       "    <tr>\n",
       "      <th>0</th>\n",
       "      <td>04-21-1991</td>\n",
       "      <td>9:09</td>\n",
       "      <td>58</td>\n",
       "      <td>100</td>\n",
       "    </tr>\n",
       "    <tr>\n",
       "      <th>1</th>\n",
       "      <td>04-21-1991</td>\n",
       "      <td>9:09</td>\n",
       "      <td>33</td>\n",
       "      <td>9</td>\n",
       "    </tr>\n",
       "    <tr>\n",
       "      <th>2</th>\n",
       "      <td>04-21-1991</td>\n",
       "      <td>9:09</td>\n",
       "      <td>34</td>\n",
       "      <td>13</td>\n",
       "    </tr>\n",
       "    <tr>\n",
       "      <th>3</th>\n",
       "      <td>04-21-1991</td>\n",
       "      <td>17:08</td>\n",
       "      <td>62</td>\n",
       "      <td>119</td>\n",
       "    </tr>\n",
       "    <tr>\n",
       "      <th>4</th>\n",
       "      <td>04-21-1991</td>\n",
       "      <td>17:08</td>\n",
       "      <td>33</td>\n",
       "      <td>7</td>\n",
       "    </tr>\n",
       "  </tbody>\n",
       "</table>\n",
       "</div>"
      ],
      "text/plain": [
       "            0      1   2    3\n",
       "0  04-21-1991   9:09  58  100\n",
       "1  04-21-1991   9:09  33    9\n",
       "2  04-21-1991   9:09  34   13\n",
       "3  04-21-1991  17:08  62  119\n",
       "4  04-21-1991  17:08  33    7"
      ]
     },
     "execution_count": 165,
     "metadata": {},
     "output_type": "execute_result"
    }
   ],
   "source": [
    "df_raw.head()"
   ]
  },
  {
   "cell_type": "code",
   "execution_count": 166,
   "id": "aeb447d5",
   "metadata": {},
   "outputs": [],
   "source": [
    "column_names = ['Date', 'Time', 'Code', 'Value']\n",
    "df_raw.columns = column_names"
   ]
  },
  {
   "cell_type": "code",
   "execution_count": 167,
   "id": "d48891aa",
   "metadata": {},
   "outputs": [
    {
     "data": {
      "application/vnd.microsoft.datawrangler.viewer.v0+json": {
       "columns": [
        {
         "name": "index",
         "rawType": "int64",
         "type": "integer"
        },
        {
         "name": "Date",
         "rawType": "object",
         "type": "string"
        },
        {
         "name": "Time",
         "rawType": "object",
         "type": "string"
        },
        {
         "name": "Code",
         "rawType": "int64",
         "type": "integer"
        },
        {
         "name": "Value",
         "rawType": "object",
         "type": "unknown"
        }
       ],
       "ref": "e75db064-5063-43ce-802f-67cb3bd7add9",
       "rows": [
        [
         "0",
         "04-21-1991",
         "9:09",
         "58",
         "100"
        ],
        [
         "1",
         "04-21-1991",
         "9:09",
         "33",
         "9"
        ],
        [
         "2",
         "04-21-1991",
         "9:09",
         "34",
         "13"
        ],
        [
         "3",
         "04-21-1991",
         "17:08",
         "62",
         "119"
        ],
        [
         "4",
         "04-21-1991",
         "17:08",
         "33",
         "7"
        ]
       ],
       "shape": {
        "columns": 4,
        "rows": 5
       }
      },
      "text/html": [
       "<div>\n",
       "<style scoped>\n",
       "    .dataframe tbody tr th:only-of-type {\n",
       "        vertical-align: middle;\n",
       "    }\n",
       "\n",
       "    .dataframe tbody tr th {\n",
       "        vertical-align: top;\n",
       "    }\n",
       "\n",
       "    .dataframe thead th {\n",
       "        text-align: right;\n",
       "    }\n",
       "</style>\n",
       "<table border=\"1\" class=\"dataframe\">\n",
       "  <thead>\n",
       "    <tr style=\"text-align: right;\">\n",
       "      <th></th>\n",
       "      <th>Date</th>\n",
       "      <th>Time</th>\n",
       "      <th>Code</th>\n",
       "      <th>Value</th>\n",
       "    </tr>\n",
       "  </thead>\n",
       "  <tbody>\n",
       "    <tr>\n",
       "      <th>0</th>\n",
       "      <td>04-21-1991</td>\n",
       "      <td>9:09</td>\n",
       "      <td>58</td>\n",
       "      <td>100</td>\n",
       "    </tr>\n",
       "    <tr>\n",
       "      <th>1</th>\n",
       "      <td>04-21-1991</td>\n",
       "      <td>9:09</td>\n",
       "      <td>33</td>\n",
       "      <td>9</td>\n",
       "    </tr>\n",
       "    <tr>\n",
       "      <th>2</th>\n",
       "      <td>04-21-1991</td>\n",
       "      <td>9:09</td>\n",
       "      <td>34</td>\n",
       "      <td>13</td>\n",
       "    </tr>\n",
       "    <tr>\n",
       "      <th>3</th>\n",
       "      <td>04-21-1991</td>\n",
       "      <td>17:08</td>\n",
       "      <td>62</td>\n",
       "      <td>119</td>\n",
       "    </tr>\n",
       "    <tr>\n",
       "      <th>4</th>\n",
       "      <td>04-21-1991</td>\n",
       "      <td>17:08</td>\n",
       "      <td>33</td>\n",
       "      <td>7</td>\n",
       "    </tr>\n",
       "  </tbody>\n",
       "</table>\n",
       "</div>"
      ],
      "text/plain": [
       "         Date   Time  Code Value\n",
       "0  04-21-1991   9:09    58   100\n",
       "1  04-21-1991   9:09    33     9\n",
       "2  04-21-1991   9:09    34    13\n",
       "3  04-21-1991  17:08    62   119\n",
       "4  04-21-1991  17:08    33     7"
      ]
     },
     "execution_count": 167,
     "metadata": {},
     "output_type": "execute_result"
    }
   ],
   "source": [
    "df_raw.head()"
   ]
  },
  {
   "cell_type": "markdown",
   "id": "fa002a00",
   "metadata": {},
   "source": [
    "---\n",
    "## Data understanding"
   ]
  },
  {
   "cell_type": "code",
   "execution_count": 168,
   "id": "3938c483",
   "metadata": {},
   "outputs": [
    {
     "data": {
      "text/plain": [
       "(29330, 4)"
      ]
     },
     "execution_count": 168,
     "metadata": {},
     "output_type": "execute_result"
    }
   ],
   "source": [
    "# dataset shape\n",
    "df_raw.shape"
   ]
  },
  {
   "cell_type": "markdown",
   "id": "f7eb665a",
   "metadata": {},
   "source": [
    "29330 samples"
   ]
  },
  {
   "cell_type": "code",
   "execution_count": 169,
   "id": "fe1bc195",
   "metadata": {},
   "outputs": [
    {
     "name": "stdout",
     "output_type": "stream",
     "text": [
      "<class 'pandas.core.frame.DataFrame'>\n",
      "RangeIndex: 29330 entries, 0 to 29329\n",
      "Data columns (total 4 columns):\n",
      " #   Column  Non-Null Count  Dtype \n",
      "---  ------  --------------  ----- \n",
      " 0   Date    29297 non-null  object\n",
      " 1   Time    29330 non-null  object\n",
      " 2   Code    29330 non-null  int64 \n",
      " 3   Value   29297 non-null  object\n",
      "dtypes: int64(1), object(3)\n",
      "memory usage: 916.7+ KB\n"
     ]
    }
   ],
   "source": [
    "df_raw.info()"
   ]
  },
  {
   "cell_type": "code",
   "execution_count": 170,
   "id": "140ddd65",
   "metadata": {},
   "outputs": [],
   "source": [
    "df_raw['Value'] = pd.to_numeric(df_raw['Value'], errors='coerce')"
   ]
  },
  {
   "cell_type": "code",
   "execution_count": 171,
   "id": "111c7054",
   "metadata": {},
   "outputs": [
    {
     "data": {
      "application/vnd.microsoft.datawrangler.viewer.v0+json": {
       "columns": [
        {
         "name": "index",
         "rawType": "object",
         "type": "string"
        },
        {
         "name": "Code",
         "rawType": "float64",
         "type": "float"
        },
        {
         "name": "Value",
         "rawType": "float64",
         "type": "float"
        }
       ],
       "ref": "e7279203-5b20-426b-8a7b-b6d0f59a83ef",
       "rows": [
        [
         "count",
         "29330.0",
         "29278.0"
        ],
        [
         "mean",
         "46.428605523354925",
         "79.37490607281919"
        ],
        [
         "std",
         "13.453218547846461",
         "93.49691451042631"
        ],
        [
         "min",
         "0.0",
         "0.0"
        ],
        [
         "25%",
         "33.0",
         "6.0"
        ],
        [
         "50%",
         "48.0",
         "24.0"
        ],
        [
         "75%",
         "60.0",
         "142.0"
        ],
        [
         "max",
         "72.0",
         "501.0"
        ]
       ],
       "shape": {
        "columns": 2,
        "rows": 8
       }
      },
      "text/html": [
       "<div>\n",
       "<style scoped>\n",
       "    .dataframe tbody tr th:only-of-type {\n",
       "        vertical-align: middle;\n",
       "    }\n",
       "\n",
       "    .dataframe tbody tr th {\n",
       "        vertical-align: top;\n",
       "    }\n",
       "\n",
       "    .dataframe thead th {\n",
       "        text-align: right;\n",
       "    }\n",
       "</style>\n",
       "<table border=\"1\" class=\"dataframe\">\n",
       "  <thead>\n",
       "    <tr style=\"text-align: right;\">\n",
       "      <th></th>\n",
       "      <th>Code</th>\n",
       "      <th>Value</th>\n",
       "    </tr>\n",
       "  </thead>\n",
       "  <tbody>\n",
       "    <tr>\n",
       "      <th>count</th>\n",
       "      <td>29330.000000</td>\n",
       "      <td>29278.000000</td>\n",
       "    </tr>\n",
       "    <tr>\n",
       "      <th>mean</th>\n",
       "      <td>46.428606</td>\n",
       "      <td>79.374906</td>\n",
       "    </tr>\n",
       "    <tr>\n",
       "      <th>std</th>\n",
       "      <td>13.453219</td>\n",
       "      <td>93.496915</td>\n",
       "    </tr>\n",
       "    <tr>\n",
       "      <th>min</th>\n",
       "      <td>0.000000</td>\n",
       "      <td>0.000000</td>\n",
       "    </tr>\n",
       "    <tr>\n",
       "      <th>25%</th>\n",
       "      <td>33.000000</td>\n",
       "      <td>6.000000</td>\n",
       "    </tr>\n",
       "    <tr>\n",
       "      <th>50%</th>\n",
       "      <td>48.000000</td>\n",
       "      <td>24.000000</td>\n",
       "    </tr>\n",
       "    <tr>\n",
       "      <th>75%</th>\n",
       "      <td>60.000000</td>\n",
       "      <td>142.000000</td>\n",
       "    </tr>\n",
       "    <tr>\n",
       "      <th>max</th>\n",
       "      <td>72.000000</td>\n",
       "      <td>501.000000</td>\n",
       "    </tr>\n",
       "  </tbody>\n",
       "</table>\n",
       "</div>"
      ],
      "text/plain": [
       "               Code         Value\n",
       "count  29330.000000  29278.000000\n",
       "mean      46.428606     79.374906\n",
       "std       13.453219     93.496915\n",
       "min        0.000000      0.000000\n",
       "25%       33.000000      6.000000\n",
       "50%       48.000000     24.000000\n",
       "75%       60.000000    142.000000\n",
       "max       72.000000    501.000000"
      ]
     },
     "execution_count": 171,
     "metadata": {},
     "output_type": "execute_result"
    }
   ],
   "source": [
    "df_raw.describe()"
   ]
  },
  {
   "cell_type": "markdown",
   "id": "c9386101",
   "metadata": {},
   "source": [
    "## Data Cleaning"
   ]
  },
  {
   "cell_type": "markdown",
   "id": "6d6e41c5",
   "metadata": {},
   "source": [
    "Let's treat de nan and duplicates values"
   ]
  },
  {
   "cell_type": "code",
   "execution_count": 172,
   "id": "7069e795",
   "metadata": {},
   "outputs": [],
   "source": [
    "df_raw.dropna(how='all', inplace=True)"
   ]
  },
  {
   "cell_type": "code",
   "execution_count": 173,
   "id": "850a354f",
   "metadata": {},
   "outputs": [
    {
     "data": {
      "application/vnd.microsoft.datawrangler.viewer.v0+json": {
       "columns": [
        {
         "name": "index",
         "rawType": "object",
         "type": "string"
        },
        {
         "name": "0",
         "rawType": "int64",
         "type": "integer"
        }
       ],
       "ref": "221fb13d-0185-414e-b192-e15aaf759db2",
       "rows": [
        [
         "Date",
         "33"
        ],
        [
         "Time",
         "0"
        ],
        [
         "Code",
         "0"
        ],
        [
         "Value",
         "52"
        ]
       ],
       "shape": {
        "columns": 1,
        "rows": 4
       }
      },
      "text/plain": [
       "Date     33\n",
       "Time      0\n",
       "Code      0\n",
       "Value    52\n",
       "dtype: int64"
      ]
     },
     "execution_count": 173,
     "metadata": {},
     "output_type": "execute_result"
    }
   ],
   "source": [
    "df = df_raw.copy() \n",
    "df.isnull().sum()"
   ]
  },
  {
   "cell_type": "code",
   "execution_count": 174,
   "id": "7ebe40ee",
   "metadata": {},
   "outputs": [],
   "source": [
    "df.dropna(inplace=True)"
   ]
  },
  {
   "cell_type": "code",
   "execution_count": 175,
   "id": "629be831",
   "metadata": {},
   "outputs": [
    {
     "data": {
      "text/plain": [
       "np.int64(1872)"
      ]
     },
     "execution_count": 175,
     "metadata": {},
     "output_type": "execute_result"
    }
   ],
   "source": [
    "df.duplicated().sum() # omg so mutch duplicates"
   ]
  },
  {
   "cell_type": "code",
   "execution_count": 176,
   "id": "99d79d71",
   "metadata": {},
   "outputs": [],
   "source": [
    "df.drop_duplicates(inplace=True)"
   ]
  },
  {
   "cell_type": "code",
   "execution_count": 177,
   "id": "783703b1",
   "metadata": {},
   "outputs": [
    {
     "data": {
      "text/plain": [
       "(27384, 4)"
      ]
     },
     "execution_count": 177,
     "metadata": {},
     "output_type": "execute_result"
    }
   ],
   "source": [
    "df.shape"
   ]
  },
  {
   "cell_type": "markdown",
   "id": "b48d4a5e",
   "metadata": {},
   "source": [
    "now we have 29330 samples and no duplicates or missing values."
   ]
  },
  {
   "cell_type": "code",
   "execution_count": 178,
   "id": "f4716218",
   "metadata": {},
   "outputs": [
    {
     "data": {
      "application/vnd.microsoft.datawrangler.viewer.v0+json": {
       "columns": [
        {
         "name": "index",
         "rawType": "int64",
         "type": "integer"
        },
        {
         "name": "Date",
         "rawType": "object",
         "type": "string"
        },
        {
         "name": "Time",
         "rawType": "object",
         "type": "string"
        },
        {
         "name": "Code",
         "rawType": "int64",
         "type": "integer"
        },
        {
         "name": "Value",
         "rawType": "float64",
         "type": "float"
        }
       ],
       "ref": "f4a248e5-69d6-40d4-88bf-e34ad11d65b5",
       "rows": [
        [
         "0",
         "04-21-1991",
         "9:09",
         "58",
         "100.0"
        ],
        [
         "1",
         "04-21-1991",
         "9:09",
         "33",
         "9.0"
        ],
        [
         "2",
         "04-21-1991",
         "9:09",
         "34",
         "13.0"
        ],
        [
         "3",
         "04-21-1991",
         "17:08",
         "62",
         "119.0"
        ],
        [
         "4",
         "04-21-1991",
         "17:08",
         "33",
         "7.0"
        ]
       ],
       "shape": {
        "columns": 4,
        "rows": 5
       }
      },
      "text/html": [
       "<div>\n",
       "<style scoped>\n",
       "    .dataframe tbody tr th:only-of-type {\n",
       "        vertical-align: middle;\n",
       "    }\n",
       "\n",
       "    .dataframe tbody tr th {\n",
       "        vertical-align: top;\n",
       "    }\n",
       "\n",
       "    .dataframe thead th {\n",
       "        text-align: right;\n",
       "    }\n",
       "</style>\n",
       "<table border=\"1\" class=\"dataframe\">\n",
       "  <thead>\n",
       "    <tr style=\"text-align: right;\">\n",
       "      <th></th>\n",
       "      <th>Date</th>\n",
       "      <th>Time</th>\n",
       "      <th>Code</th>\n",
       "      <th>Value</th>\n",
       "    </tr>\n",
       "  </thead>\n",
       "  <tbody>\n",
       "    <tr>\n",
       "      <th>0</th>\n",
       "      <td>04-21-1991</td>\n",
       "      <td>9:09</td>\n",
       "      <td>58</td>\n",
       "      <td>100.0</td>\n",
       "    </tr>\n",
       "    <tr>\n",
       "      <th>1</th>\n",
       "      <td>04-21-1991</td>\n",
       "      <td>9:09</td>\n",
       "      <td>33</td>\n",
       "      <td>9.0</td>\n",
       "    </tr>\n",
       "    <tr>\n",
       "      <th>2</th>\n",
       "      <td>04-21-1991</td>\n",
       "      <td>9:09</td>\n",
       "      <td>34</td>\n",
       "      <td>13.0</td>\n",
       "    </tr>\n",
       "    <tr>\n",
       "      <th>3</th>\n",
       "      <td>04-21-1991</td>\n",
       "      <td>17:08</td>\n",
       "      <td>62</td>\n",
       "      <td>119.0</td>\n",
       "    </tr>\n",
       "    <tr>\n",
       "      <th>4</th>\n",
       "      <td>04-21-1991</td>\n",
       "      <td>17:08</td>\n",
       "      <td>33</td>\n",
       "      <td>7.0</td>\n",
       "    </tr>\n",
       "  </tbody>\n",
       "</table>\n",
       "</div>"
      ],
      "text/plain": [
       "         Date   Time  Code  Value\n",
       "0  04-21-1991   9:09    58  100.0\n",
       "1  04-21-1991   9:09    33    9.0\n",
       "2  04-21-1991   9:09    34   13.0\n",
       "3  04-21-1991  17:08    62  119.0\n",
       "4  04-21-1991  17:08    33    7.0"
      ]
     },
     "execution_count": 178,
     "metadata": {},
     "output_type": "execute_result"
    }
   ],
   "source": [
    "df.head()"
   ]
  },
  {
   "cell_type": "code",
   "execution_count": 179,
   "id": "8783bb7b",
   "metadata": {},
   "outputs": [
    {
     "name": "stdout",
     "output_type": "stream",
     "text": [
      "Found 12 row(s) that could not be parsed. They will be removed.\n",
      "             Date    Time  Code  Value Timestamp\n",
      "6505   06-31-1991   07:50    58  149.0       NaT\n",
      "6506   06-31-1991   07:50    33    4.0       NaT\n",
      "6507   06-31-1991   07:50    34   24.0       NaT\n",
      "6508   06-31-1991   13:30    60  162.0       NaT\n",
      "6509   06-31-1991   13:30    33    5.0       NaT\n",
      "6510   06-31-1991   19:45    62  213.0       NaT\n",
      "6511   06-31-1991   19:45    33   11.0       NaT\n",
      "28070  04-09-1991   56:35    58  237.0       NaT\n",
      "28071  04-09-1991   56:35    33   16.0       NaT\n",
      "28072  04-09-1991   56:35    34   40.0       NaT\n",
      "28171  04-21-1991  188:00    62  128.0       NaT\n",
      "28172  04-21-1991  188:00    33   14.0       NaT\n"
     ]
    }
   ],
   "source": [
    "df['Timestamp'] = pd.to_datetime(df['Date'] + ' ' + df['Time'], errors='coerce')\n",
    "\n",
    "# Let's find out which rows failed to parse\n",
    "failed_rows = df[df['Timestamp'].isnull()]\n",
    "if not failed_rows.empty:\n",
    "    print(f\"Found {len(failed_rows)} row(s) that could not be parsed. They will be removed.\")\n",
    "    print(failed_rows)\n",
    "\n",
    "df.dropna(subset=['Timestamp'], inplace=True)\n",
    "df.set_index('Timestamp', inplace=True)\n",
    "df.drop(['Date', 'Time'], axis=1, inplace=True)\n",
    "df.sort_index(inplace=True)"
   ]
  },
  {
   "cell_type": "code",
   "execution_count": 180,
   "id": "92589f64",
   "metadata": {},
   "outputs": [
    {
     "data": {
      "application/vnd.microsoft.datawrangler.viewer.v0+json": {
       "columns": [
        {
         "name": "Timestamp",
         "rawType": "datetime64[ns]",
         "type": "datetime"
        },
        {
         "name": "Code",
         "rawType": "int64",
         "type": "integer"
        },
        {
         "name": "Value",
         "rawType": "float64",
         "type": "float"
        }
       ],
       "ref": "4ad513eb-978f-4932-bce9-f1a8754599bc",
       "rows": [
        [
         "1988-03-27 08:00:00",
         "58",
         "134.0"
        ],
        [
         "1988-03-27 08:00:00",
         "34",
         "20.0"
        ],
        [
         "1988-03-27 12:00:00",
         "60",
         "158.0"
        ],
        [
         "1988-03-27 18:00:00",
         "62",
         "258.0"
        ],
        [
         "1988-03-28 08:00:00",
         "34",
         "20.0"
        ],
        [
         "1988-03-28 08:00:00",
         "58",
         "115.0"
        ],
        [
         "1988-03-28 12:00:00",
         "60",
         "162.0"
        ],
        [
         "1988-03-28 18:00:00",
         "62",
         "135.0"
        ],
        [
         "1988-03-31 08:00:00",
         "34",
         "20.0"
        ],
        [
         "1988-03-31 08:00:00",
         "58",
         "100.0"
        ],
        [
         "1988-03-31 12:00:00",
         "60",
         "148.0"
        ],
        [
         "1988-03-31 18:00:00",
         "62",
         "147.0"
        ],
        [
         "1988-04-02 08:00:00",
         "58",
         "129.0"
        ],
        [
         "1988-04-02 08:00:00",
         "34",
         "20.0"
        ],
        [
         "1988-04-02 12:00:00",
         "60",
         "136.0"
        ],
        [
         "1988-04-02 18:00:00",
         "62",
         "160.0"
        ],
        [
         "1988-04-04 08:00:00",
         "58",
         "118.0"
        ],
        [
         "1988-04-04 08:00:00",
         "34",
         "20.0"
        ],
        [
         "1988-04-04 18:00:00",
         "62",
         "105.0"
        ],
        [
         "1988-04-06 08:00:00",
         "58",
         "148.0"
        ],
        [
         "1988-04-06 08:00:00",
         "34",
         "20.0"
        ],
        [
         "1988-04-06 12:00:00",
         "60",
         "132.0"
        ],
        [
         "1988-04-06 18:00:00",
         "62",
         "140.0"
        ],
        [
         "1988-04-08 08:00:00",
         "58",
         "91.0"
        ],
        [
         "1988-04-08 08:00:00",
         "34",
         "13.0"
        ],
        [
         "1988-04-08 12:00:00",
         "60",
         "130.0"
        ],
        [
         "1988-04-08 18:00:00",
         "62",
         "147.0"
        ],
        [
         "1988-04-09 08:00:00",
         "58",
         "135.0"
        ],
        [
         "1988-04-09 08:00:00",
         "34",
         "20.0"
        ],
        [
         "1988-04-09 12:00:00",
         "60",
         "144.0"
        ],
        [
         "1988-04-09 18:00:00",
         "62",
         "137.0"
        ],
        [
         "1988-04-11 08:00:00",
         "34",
         "20.0"
        ],
        [
         "1988-04-11 08:00:00",
         "58",
         "124.0"
        ],
        [
         "1988-04-11 12:00:00",
         "60",
         "130.0"
        ],
        [
         "1988-04-11 18:00:00",
         "62",
         "116.0"
        ],
        [
         "1988-04-14 08:00:00",
         "34",
         "20.0"
        ],
        [
         "1988-04-14 08:00:00",
         "58",
         "98.0"
        ],
        [
         "1988-04-14 12:00:00",
         "60",
         "138.0"
        ],
        [
         "1988-04-14 18:00:00",
         "62",
         "114.0"
        ],
        [
         "1988-04-16 08:00:00",
         "58",
         "84.0"
        ],
        [
         "1988-04-16 08:00:00",
         "34",
         "20.0"
        ],
        [
         "1988-04-16 12:00:00",
         "60",
         "76.0"
        ],
        [
         "1988-04-16 18:00:00",
         "62",
         "157.0"
        ],
        [
         "1988-04-18 08:00:00",
         "58",
         "118.0"
        ],
        [
         "1988-04-18 08:00:00",
         "34",
         "20.0"
        ],
        [
         "1988-04-18 12:00:00",
         "60",
         "124.0"
        ],
        [
         "1988-04-18 18:00:00",
         "62",
         "148.0"
        ],
        [
         "1988-04-20 08:00:00",
         "34",
         "20.0"
        ],
        [
         "1988-04-20 08:00:00",
         "58",
         "112.0"
        ],
        [
         "1988-04-20 12:00:00",
         "60",
         "134.0"
        ]
       ],
       "shape": {
        "columns": 2,
        "rows": 27372
       }
      },
      "text/html": [
       "<div>\n",
       "<style scoped>\n",
       "    .dataframe tbody tr th:only-of-type {\n",
       "        vertical-align: middle;\n",
       "    }\n",
       "\n",
       "    .dataframe tbody tr th {\n",
       "        vertical-align: top;\n",
       "    }\n",
       "\n",
       "    .dataframe thead th {\n",
       "        text-align: right;\n",
       "    }\n",
       "</style>\n",
       "<table border=\"1\" class=\"dataframe\">\n",
       "  <thead>\n",
       "    <tr style=\"text-align: right;\">\n",
       "      <th></th>\n",
       "      <th>Code</th>\n",
       "      <th>Value</th>\n",
       "    </tr>\n",
       "    <tr>\n",
       "      <th>Timestamp</th>\n",
       "      <th></th>\n",
       "      <th></th>\n",
       "    </tr>\n",
       "  </thead>\n",
       "  <tbody>\n",
       "    <tr>\n",
       "      <th>1988-03-27 08:00:00</th>\n",
       "      <td>58</td>\n",
       "      <td>134.0</td>\n",
       "    </tr>\n",
       "    <tr>\n",
       "      <th>1988-03-27 08:00:00</th>\n",
       "      <td>34</td>\n",
       "      <td>20.0</td>\n",
       "    </tr>\n",
       "    <tr>\n",
       "      <th>1988-03-27 12:00:00</th>\n",
       "      <td>60</td>\n",
       "      <td>158.0</td>\n",
       "    </tr>\n",
       "    <tr>\n",
       "      <th>1988-03-27 18:00:00</th>\n",
       "      <td>62</td>\n",
       "      <td>258.0</td>\n",
       "    </tr>\n",
       "    <tr>\n",
       "      <th>1988-03-28 08:00:00</th>\n",
       "      <td>34</td>\n",
       "      <td>20.0</td>\n",
       "    </tr>\n",
       "    <tr>\n",
       "      <th>...</th>\n",
       "      <td>...</td>\n",
       "      <td>...</td>\n",
       "    </tr>\n",
       "    <tr>\n",
       "      <th>1991-09-23 12:15:00</th>\n",
       "      <td>33</td>\n",
       "      <td>5.0</td>\n",
       "    </tr>\n",
       "    <tr>\n",
       "      <th>1991-09-23 17:15:00</th>\n",
       "      <td>62</td>\n",
       "      <td>264.0</td>\n",
       "    </tr>\n",
       "    <tr>\n",
       "      <th>1991-09-23 17:15:00</th>\n",
       "      <td>33</td>\n",
       "      <td>13.0</td>\n",
       "    </tr>\n",
       "    <tr>\n",
       "      <th>1991-09-23 21:10:00</th>\n",
       "      <td>33</td>\n",
       "      <td>2.0</td>\n",
       "    </tr>\n",
       "    <tr>\n",
       "      <th>1991-09-23 21:10:00</th>\n",
       "      <td>48</td>\n",
       "      <td>256.0</td>\n",
       "    </tr>\n",
       "  </tbody>\n",
       "</table>\n",
       "<p>27372 rows × 2 columns</p>\n",
       "</div>"
      ],
      "text/plain": [
       "                     Code  Value\n",
       "Timestamp                       \n",
       "1988-03-27 08:00:00    58  134.0\n",
       "1988-03-27 08:00:00    34   20.0\n",
       "1988-03-27 12:00:00    60  158.0\n",
       "1988-03-27 18:00:00    62  258.0\n",
       "1988-03-28 08:00:00    34   20.0\n",
       "...                   ...    ...\n",
       "1991-09-23 12:15:00    33    5.0\n",
       "1991-09-23 17:15:00    62  264.0\n",
       "1991-09-23 17:15:00    33   13.0\n",
       "1991-09-23 21:10:00    33    2.0\n",
       "1991-09-23 21:10:00    48  256.0\n",
       "\n",
       "[27372 rows x 2 columns]"
      ]
     },
     "execution_count": 180,
     "metadata": {},
     "output_type": "execute_result"
    }
   ],
   "source": [
    "df"
   ]
  },
  {
   "cell_type": "markdown",
   "id": "6b68705c",
   "metadata": {},
   "source": [
    "Now we pivot the Code column so that each code becomes its own feature column."
   ]
  },
  {
   "cell_type": "code",
   "execution_count": 181,
   "id": "b755e2b9",
   "metadata": {},
   "outputs": [],
   "source": [
    "df_pivoted = df.pivot_table(index='Timestamp', columns='Code', values='Value')"
   ]
  },
  {
   "cell_type": "code",
   "execution_count": 182,
   "id": "8d3fd9b7",
   "metadata": {},
   "outputs": [
    {
     "data": {
      "application/vnd.microsoft.datawrangler.viewer.v0+json": {
       "columns": [
        {
         "name": "Timestamp",
         "rawType": "datetime64[ns]",
         "type": "datetime"
        },
        {
         "name": "4",
         "rawType": "float64",
         "type": "float"
        },
        {
         "name": "33",
         "rawType": "float64",
         "type": "float"
        },
        {
         "name": "34",
         "rawType": "float64",
         "type": "float"
        },
        {
         "name": "35",
         "rawType": "float64",
         "type": "float"
        },
        {
         "name": "36",
         "rawType": "float64",
         "type": "float"
        },
        {
         "name": "48",
         "rawType": "float64",
         "type": "float"
        },
        {
         "name": "56",
         "rawType": "float64",
         "type": "float"
        },
        {
         "name": "57",
         "rawType": "float64",
         "type": "float"
        },
        {
         "name": "58",
         "rawType": "float64",
         "type": "float"
        },
        {
         "name": "59",
         "rawType": "float64",
         "type": "float"
        },
        {
         "name": "60",
         "rawType": "float64",
         "type": "float"
        },
        {
         "name": "61",
         "rawType": "float64",
         "type": "float"
        },
        {
         "name": "62",
         "rawType": "float64",
         "type": "float"
        },
        {
         "name": "63",
         "rawType": "float64",
         "type": "float"
        },
        {
         "name": "64",
         "rawType": "float64",
         "type": "float"
        },
        {
         "name": "65",
         "rawType": "float64",
         "type": "float"
        },
        {
         "name": "66",
         "rawType": "float64",
         "type": "float"
        },
        {
         "name": "67",
         "rawType": "float64",
         "type": "float"
        },
        {
         "name": "68",
         "rawType": "float64",
         "type": "float"
        },
        {
         "name": "69",
         "rawType": "float64",
         "type": "float"
        },
        {
         "name": "70",
         "rawType": "float64",
         "type": "float"
        },
        {
         "name": "71",
         "rawType": "float64",
         "type": "float"
        },
        {
         "name": "72",
         "rawType": "float64",
         "type": "float"
        }
       ],
       "ref": "b454d0ca-f180-45b8-a7ff-02eac107150b",
       "rows": [
        [
         "1988-03-27 08:00:00",
         null,
         null,
         "20.0",
         null,
         null,
         null,
         null,
         null,
         "134.0",
         null,
         null,
         null,
         null,
         null,
         null,
         null,
         null,
         null,
         null,
         null,
         null,
         null,
         null
        ],
        [
         "1988-03-27 12:00:00",
         null,
         null,
         null,
         null,
         null,
         null,
         null,
         null,
         null,
         null,
         "158.0",
         null,
         null,
         null,
         null,
         null,
         null,
         null,
         null,
         null,
         null,
         null,
         null
        ],
        [
         "1988-03-27 18:00:00",
         null,
         null,
         null,
         null,
         null,
         null,
         null,
         null,
         null,
         null,
         null,
         null,
         "258.0",
         null,
         null,
         null,
         null,
         null,
         null,
         null,
         null,
         null,
         null
        ],
        [
         "1988-03-28 08:00:00",
         null,
         null,
         "20.0",
         null,
         null,
         null,
         null,
         null,
         "115.0",
         null,
         null,
         null,
         null,
         null,
         null,
         null,
         null,
         null,
         null,
         null,
         null,
         null,
         null
        ],
        [
         "1988-03-28 12:00:00",
         null,
         null,
         null,
         null,
         null,
         null,
         null,
         null,
         null,
         null,
         "162.0",
         null,
         null,
         null,
         null,
         null,
         null,
         null,
         null,
         null,
         null,
         null,
         null
        ]
       ],
       "shape": {
        "columns": 23,
        "rows": 5
       }
      },
      "text/html": [
       "<div>\n",
       "<style scoped>\n",
       "    .dataframe tbody tr th:only-of-type {\n",
       "        vertical-align: middle;\n",
       "    }\n",
       "\n",
       "    .dataframe tbody tr th {\n",
       "        vertical-align: top;\n",
       "    }\n",
       "\n",
       "    .dataframe thead th {\n",
       "        text-align: right;\n",
       "    }\n",
       "</style>\n",
       "<table border=\"1\" class=\"dataframe\">\n",
       "  <thead>\n",
       "    <tr style=\"text-align: right;\">\n",
       "      <th>Code</th>\n",
       "      <th>4</th>\n",
       "      <th>33</th>\n",
       "      <th>34</th>\n",
       "      <th>35</th>\n",
       "      <th>36</th>\n",
       "      <th>48</th>\n",
       "      <th>56</th>\n",
       "      <th>57</th>\n",
       "      <th>58</th>\n",
       "      <th>59</th>\n",
       "      <th>60</th>\n",
       "      <th>61</th>\n",
       "      <th>62</th>\n",
       "      <th>63</th>\n",
       "      <th>64</th>\n",
       "      <th>65</th>\n",
       "      <th>66</th>\n",
       "      <th>67</th>\n",
       "      <th>68</th>\n",
       "      <th>69</th>\n",
       "      <th>70</th>\n",
       "      <th>71</th>\n",
       "      <th>72</th>\n",
       "    </tr>\n",
       "    <tr>\n",
       "      <th>Timestamp</th>\n",
       "      <th></th>\n",
       "      <th></th>\n",
       "      <th></th>\n",
       "      <th></th>\n",
       "      <th></th>\n",
       "      <th></th>\n",
       "      <th></th>\n",
       "      <th></th>\n",
       "      <th></th>\n",
       "      <th></th>\n",
       "      <th></th>\n",
       "      <th></th>\n",
       "      <th></th>\n",
       "      <th></th>\n",
       "      <th></th>\n",
       "      <th></th>\n",
       "      <th></th>\n",
       "      <th></th>\n",
       "      <th></th>\n",
       "      <th></th>\n",
       "      <th></th>\n",
       "      <th></th>\n",
       "      <th></th>\n",
       "    </tr>\n",
       "  </thead>\n",
       "  <tbody>\n",
       "    <tr>\n",
       "      <th>1988-03-27 08:00:00</th>\n",
       "      <td>NaN</td>\n",
       "      <td>NaN</td>\n",
       "      <td>20.0</td>\n",
       "      <td>NaN</td>\n",
       "      <td>NaN</td>\n",
       "      <td>NaN</td>\n",
       "      <td>NaN</td>\n",
       "      <td>NaN</td>\n",
       "      <td>134.0</td>\n",
       "      <td>NaN</td>\n",
       "      <td>NaN</td>\n",
       "      <td>NaN</td>\n",
       "      <td>NaN</td>\n",
       "      <td>NaN</td>\n",
       "      <td>NaN</td>\n",
       "      <td>NaN</td>\n",
       "      <td>NaN</td>\n",
       "      <td>NaN</td>\n",
       "      <td>NaN</td>\n",
       "      <td>NaN</td>\n",
       "      <td>NaN</td>\n",
       "      <td>NaN</td>\n",
       "      <td>NaN</td>\n",
       "    </tr>\n",
       "    <tr>\n",
       "      <th>1988-03-27 12:00:00</th>\n",
       "      <td>NaN</td>\n",
       "      <td>NaN</td>\n",
       "      <td>NaN</td>\n",
       "      <td>NaN</td>\n",
       "      <td>NaN</td>\n",
       "      <td>NaN</td>\n",
       "      <td>NaN</td>\n",
       "      <td>NaN</td>\n",
       "      <td>NaN</td>\n",
       "      <td>NaN</td>\n",
       "      <td>158.0</td>\n",
       "      <td>NaN</td>\n",
       "      <td>NaN</td>\n",
       "      <td>NaN</td>\n",
       "      <td>NaN</td>\n",
       "      <td>NaN</td>\n",
       "      <td>NaN</td>\n",
       "      <td>NaN</td>\n",
       "      <td>NaN</td>\n",
       "      <td>NaN</td>\n",
       "      <td>NaN</td>\n",
       "      <td>NaN</td>\n",
       "      <td>NaN</td>\n",
       "    </tr>\n",
       "    <tr>\n",
       "      <th>1988-03-27 18:00:00</th>\n",
       "      <td>NaN</td>\n",
       "      <td>NaN</td>\n",
       "      <td>NaN</td>\n",
       "      <td>NaN</td>\n",
       "      <td>NaN</td>\n",
       "      <td>NaN</td>\n",
       "      <td>NaN</td>\n",
       "      <td>NaN</td>\n",
       "      <td>NaN</td>\n",
       "      <td>NaN</td>\n",
       "      <td>NaN</td>\n",
       "      <td>NaN</td>\n",
       "      <td>258.0</td>\n",
       "      <td>NaN</td>\n",
       "      <td>NaN</td>\n",
       "      <td>NaN</td>\n",
       "      <td>NaN</td>\n",
       "      <td>NaN</td>\n",
       "      <td>NaN</td>\n",
       "      <td>NaN</td>\n",
       "      <td>NaN</td>\n",
       "      <td>NaN</td>\n",
       "      <td>NaN</td>\n",
       "    </tr>\n",
       "    <tr>\n",
       "      <th>1988-03-28 08:00:00</th>\n",
       "      <td>NaN</td>\n",
       "      <td>NaN</td>\n",
       "      <td>20.0</td>\n",
       "      <td>NaN</td>\n",
       "      <td>NaN</td>\n",
       "      <td>NaN</td>\n",
       "      <td>NaN</td>\n",
       "      <td>NaN</td>\n",
       "      <td>115.0</td>\n",
       "      <td>NaN</td>\n",
       "      <td>NaN</td>\n",
       "      <td>NaN</td>\n",
       "      <td>NaN</td>\n",
       "      <td>NaN</td>\n",
       "      <td>NaN</td>\n",
       "      <td>NaN</td>\n",
       "      <td>NaN</td>\n",
       "      <td>NaN</td>\n",
       "      <td>NaN</td>\n",
       "      <td>NaN</td>\n",
       "      <td>NaN</td>\n",
       "      <td>NaN</td>\n",
       "      <td>NaN</td>\n",
       "    </tr>\n",
       "    <tr>\n",
       "      <th>1988-03-28 12:00:00</th>\n",
       "      <td>NaN</td>\n",
       "      <td>NaN</td>\n",
       "      <td>NaN</td>\n",
       "      <td>NaN</td>\n",
       "      <td>NaN</td>\n",
       "      <td>NaN</td>\n",
       "      <td>NaN</td>\n",
       "      <td>NaN</td>\n",
       "      <td>NaN</td>\n",
       "      <td>NaN</td>\n",
       "      <td>162.0</td>\n",
       "      <td>NaN</td>\n",
       "      <td>NaN</td>\n",
       "      <td>NaN</td>\n",
       "      <td>NaN</td>\n",
       "      <td>NaN</td>\n",
       "      <td>NaN</td>\n",
       "      <td>NaN</td>\n",
       "      <td>NaN</td>\n",
       "      <td>NaN</td>\n",
       "      <td>NaN</td>\n",
       "      <td>NaN</td>\n",
       "      <td>NaN</td>\n",
       "    </tr>\n",
       "  </tbody>\n",
       "</table>\n",
       "</div>"
      ],
      "text/plain": [
       "Code                 4   33    34  35  36  48  56  57     58  59     60  61  \\\n",
       "Timestamp                                                                     \n",
       "1988-03-27 08:00:00 NaN NaN  20.0 NaN NaN NaN NaN NaN  134.0 NaN    NaN NaN   \n",
       "1988-03-27 12:00:00 NaN NaN   NaN NaN NaN NaN NaN NaN    NaN NaN  158.0 NaN   \n",
       "1988-03-27 18:00:00 NaN NaN   NaN NaN NaN NaN NaN NaN    NaN NaN    NaN NaN   \n",
       "1988-03-28 08:00:00 NaN NaN  20.0 NaN NaN NaN NaN NaN  115.0 NaN    NaN NaN   \n",
       "1988-03-28 12:00:00 NaN NaN   NaN NaN NaN NaN NaN NaN    NaN NaN  162.0 NaN   \n",
       "\n",
       "Code                    62  63  64  65  66  67  68  69  70  71  72  \n",
       "Timestamp                                                           \n",
       "1988-03-27 08:00:00    NaN NaN NaN NaN NaN NaN NaN NaN NaN NaN NaN  \n",
       "1988-03-27 12:00:00    NaN NaN NaN NaN NaN NaN NaN NaN NaN NaN NaN  \n",
       "1988-03-27 18:00:00  258.0 NaN NaN NaN NaN NaN NaN NaN NaN NaN NaN  \n",
       "1988-03-28 08:00:00    NaN NaN NaN NaN NaN NaN NaN NaN NaN NaN NaN  \n",
       "1988-03-28 12:00:00    NaN NaN NaN NaN NaN NaN NaN NaN NaN NaN NaN  "
      ]
     },
     "execution_count": 182,
     "metadata": {},
     "output_type": "execute_result"
    }
   ],
   "source": [
    "df_pivoted.head()"
   ]
  },
  {
   "cell_type": "markdown",
   "id": "47c32d82",
   "metadata": {},
   "source": [
    "Basecally we have the \"features\" in just one (code) and by this way is so more simple to time series forecast"
   ]
  },
  {
   "cell_type": "code",
   "execution_count": 183,
   "id": "bb8c9c5b",
   "metadata": {},
   "outputs": [],
   "source": [
    "code_map = { 33: 'Insulin_Regular', \n",
    "            34: 'Insulin_NPH', \n",
    "            35: 'Insulin_UltraLente',\n",
    "            48: 'Glucose_Unspecified', \n",
    "            57: 'Glucose_Unspecified_2', \n",
    "            58: 'Glucose_PreBreakfast',\n",
    "            59: 'Glucose_PostBreakfast', \n",
    "            60: 'Glucose_PreLunch', \n",
    "            61: 'Glucose_PostLunch',\n",
    "            62: 'Glucose_PreSupper', \n",
    "            63: 'Glucose_PostSupper', \n",
    "            64: 'Glucose_PreSnack',\n",
    "            65: 'Symptom_Hypoglycemic', \n",
    "            66: 'Meal_Typical', \n",
    "            67: 'Meal_MoreThanUsual',\n",
    "            68: 'Meal_LessThanUsual', \n",
    "            69: 'Exercise_Typical', \n",
    "            70: 'Exercise_MoreThanUsual',\n",
    "            71: 'Exercise_LessThanUsual', \n",
    "            72: 'Event_Unspecified'\n",
    "            }"
   ]
  },
  {
   "cell_type": "code",
   "execution_count": 184,
   "id": "86bedf4c",
   "metadata": {},
   "outputs": [],
   "source": [
    "df_pivoted.rename(columns=code_map, inplace=True)"
   ]
  },
  {
   "cell_type": "code",
   "execution_count": 185,
   "id": "2b361295",
   "metadata": {},
   "outputs": [
    {
     "name": "stdout",
     "output_type": "stream",
     "text": [
      "[np.int64(56), np.int64(36), np.int64(4)]\n"
     ]
    }
   ],
   "source": [
    "unique_codes_in_data = df['Code'].unique()\n",
    "mapped_codes = code_map.keys()\n",
    "\n",
    "unmapped_codes = []\n",
    "for code in unique_codes_in_data:\n",
    "    if code not in mapped_codes:\n",
    "        unmapped_codes.append(code)\n",
    "print(unmapped_codes)"
   ]
  },
  {
   "cell_type": "code",
   "execution_count": 186,
   "id": "efc3e8e4",
   "metadata": {},
   "outputs": [
    {
     "data": {
      "application/vnd.microsoft.datawrangler.viewer.v0+json": {
       "columns": [
        {
         "name": "Code",
         "rawType": "int64",
         "type": "integer"
        },
        {
         "name": "count",
         "rawType": "int64",
         "type": "integer"
        }
       ],
       "ref": "4316fb83-acbb-4d79-963a-ca016729d1cf",
       "rows": [
        [
         "56",
         "97"
        ],
        [
         "36",
         "1"
        ],
        [
         "4",
         "1"
        ]
       ],
       "shape": {
        "columns": 1,
        "rows": 3
       }
      },
      "text/plain": [
       "Code\n",
       "56    97\n",
       "36     1\n",
       "4      1\n",
       "Name: count, dtype: int64"
      ]
     },
     "execution_count": 186,
     "metadata": {},
     "output_type": "execute_result"
    }
   ],
   "source": [
    "all_code_counts = df['Code'].value_counts()\n",
    "unmapped_counts = all_code_counts[unmapped_codes]\n",
    "unmapped_counts # very insignificant, so we can ignore them"
   ]
  },
  {
   "cell_type": "code",
   "execution_count": 187,
   "id": "b8395c39",
   "metadata": {},
   "outputs": [],
   "source": [
    "df_pivoted.drop(columns=unmapped_codes, inplace=True, errors='ignore')"
   ]
  },
  {
   "cell_type": "markdown",
   "id": "5ebf5b7a",
   "metadata": {},
   "source": [
    "## Exploratory Data Analysis "
   ]
  },
  {
   "cell_type": "code",
   "execution_count": 188,
   "id": "e1aeb613",
   "metadata": {},
   "outputs": [
    {
     "name": "stdout",
     "output_type": "stream",
     "text": [
      "<class 'pandas.core.frame.DataFrame'>\n",
      "DatetimeIndex: 14740 entries, 1988-03-27 08:00:00 to 1991-09-23 21:10:00\n",
      "Data columns (total 20 columns):\n",
      " #   Column                  Non-Null Count  Dtype  \n",
      "---  ------                  --------------  -----  \n",
      " 0   Insulin_Regular         7634 non-null   float64\n",
      " 1   Insulin_NPH             3279 non-null   float64\n",
      " 2   Insulin_UltraLente      990 non-null    float64\n",
      " 3   Glucose_Unspecified     1453 non-null   float64\n",
      " 4   Glucose_Unspecified_2   904 non-null    float64\n",
      " 5   Glucose_PreBreakfast    2888 non-null   float64\n",
      " 6   Glucose_PostBreakfast   16 non-null     float64\n",
      " 7   Glucose_PreLunch        2196 non-null   float64\n",
      " 8   Glucose_PostLunch       60 non-null     float64\n",
      " 9   Glucose_PreSupper       2501 non-null   float64\n",
      " 10  Glucose_PostSupper      195 non-null    float64\n",
      " 11  Glucose_PreSnack        750 non-null    float64\n",
      " 12  Symptom_Hypoglycemic    292 non-null    float64\n",
      " 13  Meal_Typical            152 non-null    float64\n",
      " 14  Meal_MoreThanUsual      278 non-null    float64\n",
      " 15  Meal_LessThanUsual      29 non-null     float64\n",
      " 16  Exercise_Typical        64 non-null     float64\n",
      " 17  Exercise_MoreThanUsual  114 non-null    float64\n",
      " 18  Exercise_LessThanUsual  81 non-null     float64\n",
      " 19  Event_Unspecified       72 non-null     float64\n",
      "dtypes: float64(20)\n",
      "memory usage: 2.4 MB\n"
     ]
    }
   ],
   "source": [
    "df_pivoted.info()"
   ]
  },
  {
   "cell_type": "code",
   "execution_count": 189,
   "id": "266d4809",
   "metadata": {},
   "outputs": [
    {
     "data": {
      "image/png": "[encoded data removed]",
      "text/plain": [
       "<Figure size 1500x1000 with 1 Axes>"
      ]
     },
     "metadata": {},
     "output_type": "display_data"
    }
   ],
   "source": [
    "plt.figure(figsize=(15, 10))\n",
    "sns.heatmap(df_pivoted.isnull(), cbar=False, cmap='viridis')\n",
    "plt.title('Heatmap of Missing Values (NaN) Over Time')\n",
    "plt.ylabel('Timestamp')\n",
    "plt.show()"
   ]
  },
  {
   "cell_type": "markdown",
   "id": "d2651d49",
   "metadata": {},
   "source": [
    "Let's visualize the most important measurements over time: glucose levels and insulin doses. We use 'o' (dots) for the style because the data is sparse, not continuous."
   ]
  },
  {
   "cell_type": "markdown",
   "id": "46ded81b",
   "metadata": {},
   "source": [
    "How are the values for key measurements distributed?"
   ]
  }
 ],
 "metadata": {
  "kernelspec": {
   "display_name": "Python 3",
   "language": "python",
   "name": "python3"
  },
  "language_info": {
   "codemirror_mode": {
    "name": "ipython",
    "version": 3
   },
   "file_extension": ".py",
   "mimetype": "text/x-python",
   "name": "python",
   "nbconvert_exporter": "python",
   "pygments_lexer": "ipython3",
   "version": "3.13.0"
  }
 },
 "nbformat": 4,
 "nbformat_minor": 5
}
